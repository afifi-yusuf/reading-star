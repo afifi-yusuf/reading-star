{
 "cells": [
  {
   "cell_type": "code",
   "execution_count": 2,
   "metadata": {},
   "outputs": [
    {
     "name": "stdout",
     "output_type": "stream",
     "text": [
      "Requirement already satisfied: SpeechRecognition in /Users/ediz/anaconda3/lib/python3.11/site-packages (3.13.0)\n",
      "Requirement already satisfied: typing-extensions in /Users/ediz/anaconda3/lib/python3.11/site-packages (from SpeechRecognition) (4.12.2)\n",
      "Note: you may need to restart the kernel to use updated packages.\n",
      "Requirement already satisfied: pyaudio in /Users/ediz/anaconda3/lib/python3.11/site-packages (0.2.14)\n",
      "Note: you may need to restart the kernel to use updated packages.\n",
      "Requirement already satisfied: openvino in /Users/ediz/anaconda3/lib/python3.11/site-packages (2024.6.0)\n",
      "Requirement already satisfied: numpy<2.2.0,>=1.16.6 in /Users/ediz/anaconda3/lib/python3.11/site-packages (from openvino) (1.24.4)\n",
      "Requirement already satisfied: openvino-telemetry>=2023.2.1 in /Users/ediz/anaconda3/lib/python3.11/site-packages (from openvino) (2024.5.0)\n",
      "Requirement already satisfied: packaging in /Users/ediz/anaconda3/lib/python3.11/site-packages (from openvino) (23.1)\n",
      "Note: you may need to restart the kernel to use updated packages.\n",
      "Requirement already satisfied: openvino-genai in /Users/ediz/anaconda3/lib/python3.11/site-packages (2024.6.0.0)\n",
      "Requirement already satisfied: openvino_tokenizers~=2024.6.0.0.dev in /Users/ediz/anaconda3/lib/python3.11/site-packages (from openvino-genai) (2024.6.0.0)\n",
      "Requirement already satisfied: openvino~=2024.6.0.dev in /Users/ediz/anaconda3/lib/python3.11/site-packages (from openvino_tokenizers~=2024.6.0.0.dev->openvino-genai) (2024.6.0)\n",
      "Requirement already satisfied: numpy<2.2.0,>=1.16.6 in /Users/ediz/anaconda3/lib/python3.11/site-packages (from openvino~=2024.6.0.dev->openvino_tokenizers~=2024.6.0.0.dev->openvino-genai) (1.24.4)\n",
      "Requirement already satisfied: openvino-telemetry>=2023.2.1 in /Users/ediz/anaconda3/lib/python3.11/site-packages (from openvino~=2024.6.0.dev->openvino_tokenizers~=2024.6.0.0.dev->openvino-genai) (2024.5.0)\n",
      "Requirement already satisfied: packaging in /Users/ediz/anaconda3/lib/python3.11/site-packages (from openvino~=2024.6.0.dev->openvino_tokenizers~=2024.6.0.0.dev->openvino-genai) (23.1)\n",
      "Note: you may need to restart the kernel to use updated packages.\n",
      "Requirement already satisfied: transformers in /Users/ediz/anaconda3/lib/python3.11/site-packages (4.46.3)\n",
      "Requirement already satisfied: torch in /Users/ediz/anaconda3/lib/python3.11/site-packages (2.5.1)\n",
      "Requirement already satisfied: librosa in /Users/ediz/anaconda3/lib/python3.11/site-packages (0.10.2.post1)\n",
      "Requirement already satisfied: numpy in /Users/ediz/anaconda3/lib/python3.11/site-packages (1.24.4)\n",
      "Requirement already satisfied: filelock in /Users/ediz/anaconda3/lib/python3.11/site-packages (from transformers) (3.13.1)\n",
      "Requirement already satisfied: huggingface-hub<1.0,>=0.23.2 in /Users/ediz/anaconda3/lib/python3.11/site-packages (from transformers) (0.26.3)\n",
      "Requirement already satisfied: packaging>=20.0 in /Users/ediz/anaconda3/lib/python3.11/site-packages (from transformers) (23.1)\n",
      "Requirement already satisfied: pyyaml>=5.1 in /Users/ediz/anaconda3/lib/python3.11/site-packages (from transformers) (6.0)\n",
      "Requirement already satisfied: regex!=2019.12.17 in /Users/ediz/anaconda3/lib/python3.11/site-packages (from transformers) (2022.7.9)\n",
      "Requirement already satisfied: requests in /Users/ediz/anaconda3/lib/python3.11/site-packages (from transformers) (2.31.0)\n",
      "Requirement already satisfied: tokenizers<0.21,>=0.20 in /Users/ediz/anaconda3/lib/python3.11/site-packages (from transformers) (0.20.3)\n",
      "Requirement already satisfied: safetensors>=0.4.1 in /Users/ediz/anaconda3/lib/python3.11/site-packages (from transformers) (0.4.5)\n",
      "Requirement already satisfied: tqdm>=4.27 in /Users/ediz/anaconda3/lib/python3.11/site-packages (from transformers) (4.65.0)\n",
      "Requirement already satisfied: typing-extensions>=4.8.0 in /Users/ediz/anaconda3/lib/python3.11/site-packages (from torch) (4.12.2)\n",
      "Requirement already satisfied: networkx in /Users/ediz/anaconda3/lib/python3.11/site-packages (from torch) (3.1)\n",
      "Requirement already satisfied: jinja2 in /Users/ediz/anaconda3/lib/python3.11/site-packages (from torch) (3.1.2)\n",
      "Requirement already satisfied: fsspec in /Users/ediz/anaconda3/lib/python3.11/site-packages (from torch) (2024.10.0)\n",
      "Requirement already satisfied: sympy==1.13.1 in /Users/ediz/anaconda3/lib/python3.11/site-packages (from torch) (1.13.1)\n",
      "Requirement already satisfied: mpmath<1.4,>=1.1.0 in /Users/ediz/anaconda3/lib/python3.11/site-packages (from sympy==1.13.1->torch) (1.3.0)\n",
      "Requirement already satisfied: audioread>=2.1.9 in /Users/ediz/anaconda3/lib/python3.11/site-packages (from librosa) (3.0.1)\n",
      "Requirement already satisfied: scipy>=1.2.0 in /Users/ediz/anaconda3/lib/python3.11/site-packages (from librosa) (1.11.1)\n",
      "Requirement already satisfied: scikit-learn>=0.20.0 in /Users/ediz/anaconda3/lib/python3.11/site-packages (from librosa) (1.3.0)\n",
      "Requirement already satisfied: joblib>=0.14 in /Users/ediz/anaconda3/lib/python3.11/site-packages (from librosa) (1.2.0)\n",
      "Requirement already satisfied: decorator>=4.3.0 in /Users/ediz/anaconda3/lib/python3.11/site-packages (from librosa) (5.1.1)\n",
      "Requirement already satisfied: numba>=0.51.0 in /Users/ediz/anaconda3/lib/python3.11/site-packages (from librosa) (0.57.1)\n",
      "Requirement already satisfied: soundfile>=0.12.1 in /Users/ediz/anaconda3/lib/python3.11/site-packages (from librosa) (0.12.1)\n",
      "Requirement already satisfied: pooch>=1.1 in /Users/ediz/anaconda3/lib/python3.11/site-packages (from librosa) (1.8.2)\n",
      "Requirement already satisfied: soxr>=0.3.2 in /Users/ediz/anaconda3/lib/python3.11/site-packages (from librosa) (0.5.0.post1)\n",
      "Requirement already satisfied: lazy-loader>=0.1 in /Users/ediz/anaconda3/lib/python3.11/site-packages (from librosa) (0.2)\n",
      "Requirement already satisfied: msgpack>=1.0 in /Users/ediz/anaconda3/lib/python3.11/site-packages (from librosa) (1.0.3)\n",
      "Requirement already satisfied: llvmlite<0.41,>=0.40.0dev0 in /Users/ediz/anaconda3/lib/python3.11/site-packages (from numba>=0.51.0->librosa) (0.40.0)\n",
      "Requirement already satisfied: platformdirs>=2.5.0 in /Users/ediz/anaconda3/lib/python3.11/site-packages (from pooch>=1.1->librosa) (3.10.0)\n",
      "Requirement already satisfied: charset-normalizer<4,>=2 in /Users/ediz/anaconda3/lib/python3.11/site-packages (from requests->transformers) (2.0.4)\n",
      "Requirement already satisfied: idna<4,>=2.5 in /Users/ediz/anaconda3/lib/python3.11/site-packages (from requests->transformers) (3.4)\n",
      "Requirement already satisfied: urllib3<3,>=1.21.1 in /Users/ediz/anaconda3/lib/python3.11/site-packages (from requests->transformers) (1.26.16)\n",
      "Requirement already satisfied: certifi>=2017.4.17 in /Users/ediz/anaconda3/lib/python3.11/site-packages (from requests->transformers) (2023.7.22)\n",
      "Requirement already satisfied: threadpoolctl>=2.0.0 in /Users/ediz/anaconda3/lib/python3.11/site-packages (from scikit-learn>=0.20.0->librosa) (2.2.0)\n",
      "Requirement already satisfied: cffi>=1.0 in /Users/ediz/anaconda3/lib/python3.11/site-packages (from soundfile>=0.12.1->librosa) (1.15.1)\n",
      "Requirement already satisfied: MarkupSafe>=2.0 in /Users/ediz/anaconda3/lib/python3.11/site-packages (from jinja2->torch) (2.1.1)\n",
      "Requirement already satisfied: pycparser in /Users/ediz/anaconda3/lib/python3.11/site-packages (from cffi>=1.0->soundfile>=0.12.1->librosa) (2.21)\n",
      "Note: you may need to restart the kernel to use updated packages.\n"
     ]
    }
   ],
   "source": [
    "# Install requirements\n",
    "%pip install SpeechRecognition\n",
    "%pip install pyaudio\n",
    "%pip install openvino\n",
    "%pip install openvino-genai\n",
    "%pip install transformers torch librosa numpy"
   ]
  },
  {
   "cell_type": "code",
   "execution_count": 3,
   "metadata": {},
   "outputs": [
    {
     "name": "stdout",
     "output_type": "stream",
     "text": [
      "INFO:nncf:NNCF initialized successfully. Supported frameworks detected: torch, onnx, openvino\n"
     ]
    },
    {
     "data": {
      "text/markdown": [
       "**Export command:**"
      ],
      "text/plain": [
       "<IPython.core.display.Markdown object>"
      ]
     },
     "metadata": {},
     "output_type": "display_data"
    },
    {
     "data": {
      "text/markdown": [
       "`optimum-cli export openvino --model openai/whisper-tiny whisper-tiny`"
      ],
      "text/plain": [
       "<IPython.core.display.Markdown object>"
      ]
     },
     "metadata": {},
     "output_type": "display_data"
    },
    {
     "name": "stderr",
     "output_type": "stream",
     "text": [
      "Moving the following attributes in the config to the generation config: {'max_length': 448, 'suppress_tokens': [1, 2, 7, 8, 9, 10, 14, 25, 26, 27, 28, 29, 31, 58, 59, 60, 61, 62, 63, 90, 91, 92, 93, 359, 503, 522, 542, 873, 893, 902, 918, 922, 931, 1350, 1853, 1982, 2460, 2627, 3246, 3253, 3268, 3536, 3846, 3961, 4183, 4667, 6585, 6647, 7273, 9061, 9383, 10428, 10929, 11938, 12033, 12331, 12562, 13793, 14157, 14635, 15265, 15618, 16553, 16604, 18362, 18956, 20075, 21675, 22520, 26130, 26161, 26435, 28279, 29464, 31650, 32302, 32470, 36865, 42863, 47425, 49870, 50254, 50258, 50358, 50359, 50360, 50361, 50362], 'begin_suppress_tokens': [220, 50257]}. You are seeing this warning because you've set generation parameters in the model config, as opposed to in the generation config.\n",
      "`loss_type=None` was set in the config but it is unrecognised.Using the default loss: `ForCausalLMLoss`.\n",
      "/Users/ediz/anaconda3/lib/python3.11/site-packages/transformers/models/whisper/modeling_whisper.py:1017: TracerWarning: Converting a tensor to a Python boolean might cause the trace to be incorrect. We can't record the data flow of Python values, so this value will be treated as a constant in the future. This means that the trace might not generalize to other inputs!\n",
      "  if input_features.shape[-1] != expected_seq_length:\n",
      "/Users/ediz/anaconda3/lib/python3.11/site-packages/transformers/models/whisper/modeling_whisper.py:334: TracerWarning: Converting a tensor to a Python boolean might cause the trace to be incorrect. We can't record the data flow of Python values, so this value will be treated as a constant in the future. This means that the trace might not generalize to other inputs!\n",
      "  if attn_output.size() != (bsz, self.num_heads, tgt_len, self.head_dim):\n",
      "Passing a tuple of `past_key_values` is deprecated and will be removed in Transformers v4.43.0. You should pass an instance of `EncoderDecoderCache` instead, e.g. `past_key_values=EncoderDecoderCache.from_legacy_cache(past_key_values)`.\n",
      "/Users/ediz/anaconda3/lib/python3.11/site-packages/transformers/models/whisper/modeling_whisper.py:1477: TracerWarning: Converting a tensor to a Python boolean might cause the trace to be incorrect. We can't record the data flow of Python values, so this value will be treated as a constant in the future. This means that the trace might not generalize to other inputs!\n",
      "  if sequence_length != 1:\n",
      "/Users/ediz/anaconda3/lib/python3.11/site-packages/transformers/cache_utils.py:458: TracerWarning: Using len to get tensor shape might cause the trace to be incorrect. Recommended usage would be tensor.shape[0]. Passing a tensor of different shape might lead to errors or silently give incorrect results.\n",
      "  or len(self.key_cache[layer_idx]) == 0  # the layer has no cache\n",
      "/Users/ediz/anaconda3/lib/python3.11/site-packages/transformers/cache_utils.py:443: TracerWarning: Using len to get tensor shape might cause the trace to be incorrect. Recommended usage would be tensor.shape[0]. Passing a tensor of different shape might lead to errors or silently give incorrect results.\n",
      "  elif len(self.key_cache[layer_idx]) == 0:  # fills previously skipped layers; checking for tensor causes errors\n"
     ]
    },
    {
     "name": "stdout",
     "output_type": "stream",
     "text": [
      "✅ openai/whisper-tiny model converted and can be found in whisper-tiny\n"
     ]
    }
   ],
   "source": [
    "# Run to convert and generate whisper into OpenVino\n",
    "# PS: Delete the whisper-tiny folder before pushing changes onto origin\n",
    "\n",
    "\n",
    "import logging\n",
    "import nncf\n",
    "from cmd_helper import optimum_cli\n",
    "from pathlib import Path\n",
    "\n",
    "\n",
    "# Set logging level\n",
    "nncf.set_log_level(logging.ERROR)\n",
    "\n",
    "\n",
    "# Define model ID and path\n",
    "model_id = \"openai/whisper-tiny\"\n",
    "model_path = Path(model_id.split(\"/\")[1])\n",
    "\n",
    "\n",
    "# Convert the model using OpenVINO tools\n",
    "optimum_cli(model_id, model_path)\n",
    "print(f\"✅ {model_id} model converted and can be found in {model_path}\")"
   ]
  },
  {
   "cell_type": "code",
   "execution_count": 5,
   "metadata": {},
   "outputs": [
    {
     "name": "stdout",
     "output_type": "stream",
     "text": [
      "Model loaded and microphone initialized.\n",
      "\n",
      "\u001b[H\u001b[2J\n",
      "Recognized: To encode to encode.\n",
      "Best Match: How I wonder what you are (Similarity: 0.44)\n",
      "\u001b[H\u001b[2J\n",
      "Recognized: Twinkle, twinkle little star.\n",
      "Best Match: Twinkle, twinkle, little star (Similarity: 0.97)\n",
      "\n",
      "Transcription stopped by user.\n"
     ]
    }
   ],
   "source": [
    "# Main code, has to be ran after the previous 2\n",
    "\n",
    "\n",
    "import os\n",
    "import numpy as np\n",
    "import speech_recognition as sr\n",
    "from datetime import datetime, timedelta\n",
    "from queue import Queue\n",
    "from time import sleep\n",
    "from difflib import SequenceMatcher\n",
    "from transformers import AutoProcessor, AutoModelForSpeechSeq2Seq, pipeline\n",
    "from transformers.utils import logging\n",
    "import openvino_genai as ov_genai\n",
    "from notebook_utils import device_widget\n",
    "import librosa\n",
    "import torch\n",
    "\n",
    "\n",
    "# Select device\n",
    "device = device_widget(default=\"CPU\", exclude=[\"NPU\"])\n",
    "\n",
    "\n",
    "# Initialize OpenVINO pipeline\n",
    "ov_pipe = ov_genai.WhisperPipeline(str(model_path), device=device.value)\n",
    "\n",
    "\n",
    "# Known lyrics and matching function remain the same\n",
    "lyrics = {\n",
    "   \"Verse 1\": [\n",
    "       \"Twinkle, twinkle, little star\",\n",
    "       \"How I wonder what you are\",\n",
    "       \"Up above the world so high\",\n",
    "       \"Like a diamond in the sky\",\n",
    "   ]\n",
    "}\n",
    "\n",
    "\n",
    "def find_closest_match(transcription, lyrics):\n",
    "   best_match = \"\"\n",
    "   highest_similarity = 0\n",
    "   for line in lyrics:\n",
    "       similarity = SequenceMatcher(None, transcription, line).ratio()\n",
    "       if similarity > highest_similarity:\n",
    "           highest_similarity = similarity\n",
    "           best_match = line\n",
    "   return best_match, highest_similarity\n",
    "\n",
    "\n",
    "# Audio recording setup\n",
    "energy_threshold = 1000\n",
    "record_timeout = 2.0\n",
    "phrase_timeout = 3.0\n",
    "phrase_time = None\n",
    "data_queue = Queue()\n",
    "recorder = sr.Recognizer()\n",
    "recorder.energy_threshold = energy_threshold\n",
    "recorder.dynamic_energy_threshold = False\n",
    "\n",
    "\n",
    "source = sr.Microphone(sample_rate=16000)\n",
    "\n",
    "\n",
    "def record_callback(_, audio: sr.AudioData) -> None:\n",
    "   data = audio.get_raw_data()\n",
    "   data_queue.put(data)\n",
    "\n",
    "\n",
    "# Main processing loop\n",
    "with source:\n",
    "   recorder.adjust_for_ambient_noise(source)\n",
    "\n",
    "\n",
    "stop_call = recorder.listen_in_background(source, record_callback, phrase_time_limit=record_timeout)\n",
    "print(\"Model loaded and microphone initialized.\\n\")\n",
    "\n",
    "\n",
    "try:\n",
    "   current_verse = \"Verse 1\"\n",
    "   while True:\n",
    "       now = datetime.utcnow()\n",
    "       if not data_queue.empty():\n",
    "           if phrase_time and now - phrase_time > timedelta(seconds=phrase_timeout):\n",
    "               phrase_complete = True\n",
    "           phrase_time = now\n",
    "\n",
    "\n",
    "           # Get audio data\n",
    "           audio_data = b''.join(data_queue.queue)\n",
    "           data_queue.queue.clear()\n",
    "\n",
    "\n",
    "           # Convert to numpy array\n",
    "           audio_np = np.frombuffer(audio_data, dtype=np.int16).astype(np.float32) / 32768.0\n",
    "\n",
    "\n",
    "           # Process with OpenVINO pipeline\n",
    "           genai_result = ov_pipe.generate(audio_np)\n",
    "\n",
    "\n",
    "\n",
    "\n",
    "           recognized_text = str(genai_result).strip()\n",
    "           # Match with lyrics\n",
    "           match, similarity = find_closest_match(recognized_text, lyrics[current_verse])\n",
    "\n",
    "\n",
    "           # Clear screen and display results\n",
    "           os.system('clear')\n",
    "           print(f\"\\nRecognized: {recognized_text}\")\n",
    "           print(f\"Best Match: {match} (Similarity: {similarity:.2f})\")\n",
    "       else:\n",
    "           sleep(0.25)\n",
    "\n",
    "\n",
    "except KeyboardInterrupt:\n",
    "   print(\"\\nTranscription stopped by user.\")\n",
    "   stop_call()"
   ]
  }
 ],
 "metadata": {
  "kernelspec": {
   "display_name": "base",
   "language": "python",
   "name": "python3"
  },
  "language_info": {
   "codemirror_mode": {
    "name": "ipython",
    "version": 3
   },
   "file_extension": ".py",
   "mimetype": "text/x-python",
   "name": "python",
   "nbconvert_exporter": "python",
   "pygments_lexer": "ipython3",
   "version": "3.11.5"
  }
 },
 "nbformat": 4,
 "nbformat_minor": 2
}
